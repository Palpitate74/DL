{
 "cells": [
  {
   "cell_type": "markdown",
   "id": "93dd4b69",
   "metadata": {},
   "source": [
    "# 数据操作"
   ]
  },
  {
   "cell_type": "code",
   "execution_count": 1,
   "id": "f7b47e1b",
   "metadata": {},
   "outputs": [],
   "source": [
    "import torch#导入torch的库"
   ]
  },
  {
   "cell_type": "markdown",
   "id": "e1669302",
   "metadata": {},
   "source": [
    "张量表示一个数值组成的数组，这个数组可能有多个维度"
   ]
  },
  {
   "cell_type": "code",
   "execution_count": 56,
   "id": "bef69d55",
   "metadata": {
    "scrolled": true
   },
   "outputs": [
    {
     "data": {
      "text/plain": [
       "tensor([ 0,  1,  2,  3,  4,  5,  6,  7,  8,  9, 10, 11])"
      ]
     },
     "execution_count": 56,
     "metadata": {},
     "output_type": "execute_result"
    }
   ],
   "source": [
    "x = torch.arange(12)#表示生成一个从0到11的tensor数组，一共12个数\n",
    "x#jupyter中可以不使用print()函数，直接输入变量名就可以完成打印，但每次只能打印一行\n",
    "x#若输入不同行的两个变量名，则只打印靠下的变量"
   ]
  },
  {
   "cell_type": "markdown",
   "id": "99e72958",
   "metadata": {},
   "source": [
    "可以通过张量的shape属性访问其形状和元素总数\n"
   ]
  },
  {
   "cell_type": "code",
   "execution_count": 57,
   "id": "0bdd38d2",
   "metadata": {
    "scrolled": true
   },
   "outputs": [
    {
     "data": {
      "text/plain": [
       "torch.Size([12])"
      ]
     },
     "execution_count": 57,
     "metadata": {},
     "output_type": "execute_result"
    }
   ],
   "source": [
    "x.shape#shape函数返回x的属性，即一个大小为12的torch"
   ]
  },
  {
   "cell_type": "code",
   "execution_count": 4,
   "id": "83d80064",
   "metadata": {},
   "outputs": [
    {
     "data": {
      "text/plain": [
       "12"
      ]
     },
     "execution_count": 4,
     "metadata": {},
     "output_type": "execute_result"
    }
   ],
   "source": [
    "x.numel()#numel()函数仅返回x中元素的数量"
   ]
  },
  {
   "cell_type": "markdown",
   "id": "3c53719a",
   "metadata": {},
   "source": [
    "要改变一个张量的形状而不改变元素数量和值，可以调用reshape函数\n"
   ]
  },
  {
   "cell_type": "code",
   "execution_count": 5,
   "id": "bf04f654",
   "metadata": {},
   "outputs": [
    {
     "data": {
      "text/plain": [
       "tensor([[ 0,  1,  2,  3],\n",
       "        [ 4,  5,  6,  7],\n",
       "        [ 8,  9, 10, 11]])"
      ]
     },
     "execution_count": 5,
     "metadata": {},
     "output_type": "execute_result"
    }
   ],
   "source": [
    "X = x.reshape(3,4)#reshape()函数将x的形状从一个1×12的矩阵改写为一个3×4的矩阵\n",
    "X"
   ]
  },
  {
   "cell_type": "code",
   "execution_count": 60,
   "id": "70a99418",
   "metadata": {},
   "outputs": [
    {
     "data": {
      "text/plain": [
       "(tensor([1, 1, 1, 1, 1, 1, 1, 1, 1, 1, 1, 1]),\n",
       " tensor([[1, 1, 1, 1],\n",
       "         [1, 1, 1, 1],\n",
       "         [1, 1, 1, 1]]))"
      ]
     },
     "execution_count": 60,
     "metadata": {},
     "output_type": "execute_result"
    }
   ],
   "source": [
    "#需要注意的是，调用reshape()函数时不会向系统申请新的内存空间，所以对调用后的变量进行操作时，会对调用前的变量造成改变\n",
    "a = torch.arange(12)\n",
    "b = a.reshape(3,4)\n",
    "b[:] = 1#[:]表示将b中的所有行上的值都赋值1\n",
    "a, b#同一行可以打印多个变量"
   ]
  },
  {
   "cell_type": "code",
   "execution_count": 6,
   "id": "453eb946",
   "metadata": {},
   "outputs": [
    {
     "data": {
      "text/plain": [
       "tensor([[[0., 0., 0., 0.],\n",
       "         [0., 0., 0., 0.],\n",
       "         [0., 0., 0., 0.]],\n",
       "\n",
       "        [[0., 0., 0., 0.],\n",
       "         [0., 0., 0., 0.],\n",
       "         [0., 0., 0., 0.]]])"
      ]
     },
     "execution_count": 6,
     "metadata": {},
     "output_type": "execute_result"
    }
   ],
   "source": [
    "torch.zeros((2,3,4))#表示生成2个大小为3×4的全零矩阵，维度为3"
   ]
  },
  {
   "cell_type": "code",
   "execution_count": 7,
   "id": "bab982c2",
   "metadata": {},
   "outputs": [
    {
     "data": {
      "text/plain": [
       "tensor([[[1., 1., 1., 1.],\n",
       "         [1., 1., 1., 1.],\n",
       "         [1., 1., 1., 1.]],\n",
       "\n",
       "        [[1., 1., 1., 1.],\n",
       "         [1., 1., 1., 1.],\n",
       "         [1., 1., 1., 1.]]])"
      ]
     },
     "execution_count": 7,
     "metadata": {},
     "output_type": "execute_result"
    }
   ],
   "source": [
    "torch.ones((2,3,4))#表示生成2个大小为3×4的全1矩阵，维度为3"
   ]
  },
  {
   "cell_type": "code",
   "execution_count": 8,
   "id": "2febb366",
   "metadata": {},
   "outputs": [
    {
     "data": {
      "text/plain": [
       "tensor([[2, 1, 4, 3],\n",
       "        [1, 2, 3, 4],\n",
       "        [4, 3, 2, 1]])"
      ]
     },
     "execution_count": 8,
     "metadata": {},
     "output_type": "execute_result"
    }
   ],
   "source": [
    "#通过提供包含数值的python列表，为张量中元素赋值\n",
    "torch.tensor([[2,1,4,3],[1,2,3,4],[4,3,2,1]])"
   ]
  },
  {
   "cell_type": "markdown",
   "id": "28dffe82",
   "metadata": {},
   "source": [
    "常见的标准算术运算符（$+$、$-$、$*$、$/$、$**$），都可以被升级为按元素运算"
   ]
  },
  {
   "cell_type": "code",
   "execution_count": 9,
   "id": "5a29ebce",
   "metadata": {},
   "outputs": [
    {
     "data": {
      "text/plain": [
       "(tensor([ 3.,  4.,  6., 10.]),\n",
       " tensor([-1.,  0.,  2.,  6.]),\n",
       " tensor([ 2.,  4.,  8., 16.]),\n",
       " tensor([0.5000, 1.0000, 2.0000, 4.0000]),\n",
       " tensor([ 1.,  4., 16., 64.]))"
      ]
     },
     "execution_count": 9,
     "metadata": {},
     "output_type": "execute_result"
    }
   ],
   "source": [
    "x = torch.tensor([1.0,2,4,8])\n",
    "y = torch.tensor([2,2,2,2])\n",
    "x + y, x - y, x * y, x / y, x ** y#均为逐元素计算，例如x+y为[1.0+2, 2+2, 4+2, 8+2]"
   ]
  },
  {
   "cell_type": "code",
   "execution_count": 10,
   "id": "292bbbb0",
   "metadata": {},
   "outputs": [
    {
     "data": {
      "text/plain": [
       "tensor([2.7183e+00, 7.3891e+00, 5.4598e+01, 2.9810e+03])"
      ]
     },
     "execution_count": 10,
     "metadata": {},
     "output_type": "execute_result"
    }
   ],
   "source": [
    "torch.exp(x)#也可以使用指数函数运算，exp(t)函数表示e^t，同样逐元素进行运算"
   ]
  },
  {
   "cell_type": "code",
   "execution_count": 11,
   "id": "7bcfd2a3",
   "metadata": {},
   "outputs": [
    {
     "data": {
      "text/plain": [
       "(tensor([[ 0.,  1.,  2.,  3.],\n",
       "         [ 4.,  5.,  6.,  7.],\n",
       "         [ 8.,  9., 10., 11.],\n",
       "         [ 2.,  1.,  4.,  3.],\n",
       "         [ 1.,  2.,  3.,  4.],\n",
       "         [ 4.,  3.,  2.,  1.]]),\n",
       " tensor([[ 0.,  1.,  2.,  3.,  2.,  1.,  4.,  3.],\n",
       "         [ 4.,  5.,  6.,  7.,  1.,  2.,  3.,  4.],\n",
       "         [ 8.,  9., 10., 11.,  4.,  3.,  2.,  1.]]))"
      ]
     },
     "execution_count": 11,
     "metadata": {},
     "output_type": "execute_result"
    }
   ],
   "source": [
    "#连接多个张量\n",
    "X = torch.arange(12, dtype = torch.float32).reshape((3, 4))#参数dtype表示张量中的数值类型为float单精度型\n",
    "Y = torch.tensor([[2.0, 1, 4, 3], [1, 2, 3, 4], [4, 3, 2, 1]])\n",
    "torch.cat((X, Y), dim=0), torch.cat((X, Y), dim=1)#cat为连接两个张量的函数，其中参数dim=0表示按行连接（增加行），dim=1表示按列连接"
   ]
  },
  {
   "cell_type": "code",
   "execution_count": 12,
   "id": "46bc5552",
   "metadata": {},
   "outputs": [
    {
     "data": {
      "text/plain": [
       "tensor([[False,  True, False,  True],\n",
       "        [False, False, False, False],\n",
       "        [False, False, False, False]])"
      ]
     },
     "execution_count": 12,
     "metadata": {},
     "output_type": "execute_result"
    }
   ],
   "source": [
    "X == Y#使用逻辑符号“==——相等”依次判断X和Y中数值的关系，相等返回True，否则返回False"
   ]
  },
  {
   "cell_type": "code",
   "execution_count": 13,
   "id": "e0f6d844",
   "metadata": {},
   "outputs": [
    {
     "data": {
      "text/plain": [
       "tensor(66.)"
      ]
     },
     "execution_count": 13,
     "metadata": {},
     "output_type": "execute_result"
    }
   ],
   "source": [
    "X.sum()#sum()函数表示对张量中所有的values(值)求和"
   ]
  },
  {
   "cell_type": "code",
   "execution_count": 14,
   "id": "26ccf5c3",
   "metadata": {},
   "outputs": [
    {
     "data": {
      "text/plain": [
       "(tensor([[0],\n",
       "         [1],\n",
       "         [2]]),\n",
       " tensor([[0, 1]]))"
      ]
     },
     "execution_count": 14,
     "metadata": {},
     "output_type": "execute_result"
    }
   ],
   "source": [
    "a = torch.arange(3).reshape((3, 1))\n",
    "b = torch.arange(2).reshape((1, 2))\n",
    "a, b"
   ]
  },
  {
   "cell_type": "code",
   "execution_count": 15,
   "id": "815d9e20",
   "metadata": {},
   "outputs": [
    {
     "data": {
      "text/plain": [
       "tensor([[0, 1],\n",
       "        [1, 2],\n",
       "        [2, 3]])"
      ]
     },
     "execution_count": 15,
     "metadata": {},
     "output_type": "execute_result"
    }
   ],
   "source": [
    "a+b#维度相同，形状不同，按每个维度的最大进行扩张（广播机制），即a,b中行的最大值为3行，列的最大值为2列，则a,b均复制为3×2的张量"
   ]
  },
  {
   "cell_type": "code",
   "execution_count": 16,
   "id": "b1496a03",
   "metadata": {},
   "outputs": [
    {
     "data": {
      "text/plain": [
       "(tensor([ 8.,  9., 10., 11.]),\n",
       " tensor([[ 4.,  5.,  6.,  7.],\n",
       "         [ 8.,  9., 10., 11.]]))"
      ]
     },
     "execution_count": 16,
     "metadata": {},
     "output_type": "execute_result"
    }
   ],
   "source": [
    "#[,]为切片，逗号前表示行切片，逗号后表示列切片，如[1:3,2:]表示取出第二行到四行（从第0行开始进行切片操作，左闭右开区间）和第3列之后的所有元素\n",
    "#可以使用[-1]选择最后一行元素，用[1:3]选择第二行和第三行元素\n",
    "X[-1], X[1:3]"
   ]
  },
  {
   "cell_type": "code",
   "execution_count": 17,
   "id": "54b4ebfe",
   "metadata": {},
   "outputs": [
    {
     "data": {
      "text/plain": [
       "tensor([[ 0.,  1.,  2.,  3.],\n",
       "        [ 4.,  5.,  9.,  7.],\n",
       "        [ 8.,  9., 10., 11.]])"
      ]
     },
     "execution_count": 17,
     "metadata": {},
     "output_type": "execute_result"
    }
   ],
   "source": [
    "#使用切片操作将元素写入矩阵\n",
    "X[1, 2] = 9#表示在X矩阵的第二行第三列的位置写入9\n",
    "X"
   ]
  },
  {
   "cell_type": "code",
   "execution_count": 18,
   "id": "ee2b152d",
   "metadata": {},
   "outputs": [
    {
     "data": {
      "text/plain": [
       "tensor([[12., 12., 12., 12.],\n",
       "        [12., 12., 12., 12.],\n",
       "        [ 8.,  9., 10., 11.]])"
      ]
     },
     "execution_count": 18,
     "metadata": {},
     "output_type": "execute_result"
    }
   ],
   "source": [
    "X[0:2,:] = 12#将第1行和第二行的所有元素赋值12\n",
    "X"
   ]
  },
  {
   "cell_type": "code",
   "execution_count": 19,
   "id": "d765c3d5",
   "metadata": {},
   "outputs": [
    {
     "data": {
      "text/plain": [
       "False"
      ]
     },
     "execution_count": 19,
     "metadata": {},
     "output_type": "execute_result"
    }
   ],
   "source": [
    "#运行一些操作会可能会导致为新结果分配内存\n",
    "before = id(Y)#id类似C++里的指针，表示内存地址\n",
    "Y = Y + X\n",
    "id(Y) == before#逻辑关系表达式，表示Y=Y+X后的Y和一开始的Y的内存地址不相同"
   ]
  },
  {
   "cell_type": "code",
   "execution_count": 20,
   "id": "1e31bffb",
   "metadata": {},
   "outputs": [
    {
     "name": "stdout",
     "output_type": "stream",
     "text": [
      "id(Z): 1392415756176\n",
      "id(Z): 1392415756176\n"
     ]
    }
   ],
   "source": [
    "#借助中间变量，以执行原地操作\n",
    "Z = torch.zeros_like(Y)#zeros_like()表示张量的形状等均与Y相同，元素值全为0\n",
    "print('id(Z):',id(Z))#''里是原封不动打印出来的内容，“，”后面不加‘’的表示打印变量的values\n",
    "Z[:] = X + Y#表示X+Y中的内容赋值给Z中所有的行\n",
    "print('id(Z):',id(Z))"
   ]
  },
  {
   "cell_type": "code",
   "execution_count": 21,
   "id": "59178aa2",
   "metadata": {},
   "outputs": [
    {
     "data": {
      "text/plain": [
       "True"
      ]
     },
     "execution_count": 21,
     "metadata": {},
     "output_type": "execute_result"
    }
   ],
   "source": [
    "#如果后续计算中没有重复使用X，我们也可以使用X[:]= X + Y或X += Y来减少操作的内存开销\n",
    "before = id(X)\n",
    "X += Y#或X[:] = X + Y\n",
    "id(X) == before"
   ]
  },
  {
   "cell_type": "code",
   "execution_count": 22,
   "id": "3eb387c4",
   "metadata": {},
   "outputs": [
    {
     "data": {
      "text/plain": [
       "(numpy.ndarray, torch.Tensor)"
      ]
     },
     "execution_count": 22,
     "metadata": {},
     "output_type": "execute_result"
    }
   ],
   "source": [
    "#转换为NumPy张量\n",
    "A = X.numpy()\n",
    "B = torch.tensor(A)\n",
    "type(A), type(B)#前者表示是numpy中的ndarray，后者为torch中的tensor"
   ]
  },
  {
   "cell_type": "code",
   "execution_count": 23,
   "id": "cff735b7",
   "metadata": {},
   "outputs": [
    {
     "data": {
      "text/plain": [
       "(tensor([3.5000]), 3.5, 3.5, 3)"
      ]
     },
     "execution_count": 23,
     "metadata": {},
     "output_type": "execute_result"
    }
   ],
   "source": [
    "#将大小为1的张量转换为Python标量\n",
    "a = torch.tensor([3.5])\n",
    "a, a.item(), float(a), int(a)#item() 函数通常用于从一个单元素数组中提取出该元素，并返回其对应的 Python 标量类型"
   ]
  },
  {
   "cell_type": "markdown",
   "id": "9da4fd71",
   "metadata": {},
   "source": [
    "# 数据预处理"
   ]
  },
  {
   "cell_type": "code",
   "execution_count": 44,
   "id": "e68f0e08",
   "metadata": {},
   "outputs": [],
   "source": [
    "#创建一个人工数据集，储存在csv文件中（逗号分隔value）\n",
    "import os\n",
    "\n",
    "os.makedirs(os.path.join('..', 'data'), exist_ok=True)\n",
    "#os.makedirs()用于递归的创建目录（包括所有必要的父级目录）。如果路径中某些目录不存在，会自动创建这些目录。\n",
    "#os.path.join('..', 'data')：将 .. 和 data 路径组合起来，生成一个相对路径。这里的 .. 表示上一级目录，因此os.path.join('..', 'data') 生成的路径是“上一级目录中的 data 文件夹”。\n",
    "#exist_ok=True：如果要创建的目录已经存在，设置 exist_ok=True 参数就不会引发错误。这确保了即使目录已经存在，程序也能继续执行。\n",
    "data_file = os.path.join('..', 'data', 'house_tiny.csv')#data_file：将生成的路径赋值给变量 data_file，表示 house_tiny.csv 文件的路径。\n",
    "#os.path.join('..', 'data', 'house_tiny.csv')：将多个路径元素组合成一个完整的文件路径。在这个例子中，将 ..（上一级目录）、data（文件夹）、house_tiny.csv（文件名）组合起来，生成了 ../data/house_tiny.csv 这个相对路径。\n",
    "\n",
    "with open(data_file, 'w') as f:#open(data_file, 'w')：打开文件 data_file 进行写入操作。data_file 是之前定义的 house_tiny.csv 文件的路径，表示 ../data/house_tiny.csv。\n",
    "#'w' 模式：表示以写入模式打开文件。如果文件不存在，会创建这个文件；如果文件已经存在，它会被清空，然后重新写入内容。\n",
    "#with 语句：这是上下文管理器，用于确保文件在打开后能够正确关闭。即使在写入过程中发生错误，with 语句也会确保文件被正确关闭。\n",
    "#as f：将打开的文件对象赋值给变量 f，方便后续操作对文件进行写入。\n",
    "    f.write('NumRooms,Alley,Price\\n')#列名\n",
    "    f.write('NA,Pave,127500\\n')#每行表示一个数据样本\n",
    "    f.write('2,NA,106000\\n')\n",
    "    f.write('4,NA,178100\\n')\n",
    "    f.write('NA,NA,140000\\n')"
   ]
  },
  {
   "cell_type": "code",
   "execution_count": 45,
   "id": "7ed00059",
   "metadata": {},
   "outputs": [
    {
     "data": {
      "text/html": [
       "<div>\n",
       "<style scoped>\n",
       "    .dataframe tbody tr th:only-of-type {\n",
       "        vertical-align: middle;\n",
       "    }\n",
       "\n",
       "    .dataframe tbody tr th {\n",
       "        vertical-align: top;\n",
       "    }\n",
       "\n",
       "    .dataframe thead th {\n",
       "        text-align: right;\n",
       "    }\n",
       "</style>\n",
       "<table border=\"1\" class=\"dataframe\">\n",
       "  <thead>\n",
       "    <tr style=\"text-align: right;\">\n",
       "      <th></th>\n",
       "      <th>NumRooms</th>\n",
       "      <th>Alley</th>\n",
       "      <th>Price</th>\n",
       "    </tr>\n",
       "  </thead>\n",
       "  <tbody>\n",
       "    <tr>\n",
       "      <th>0</th>\n",
       "      <td>NaN</td>\n",
       "      <td>Pave</td>\n",
       "      <td>127500</td>\n",
       "    </tr>\n",
       "    <tr>\n",
       "      <th>1</th>\n",
       "      <td>2.0</td>\n",
       "      <td>NaN</td>\n",
       "      <td>106000</td>\n",
       "    </tr>\n",
       "    <tr>\n",
       "      <th>2</th>\n",
       "      <td>4.0</td>\n",
       "      <td>NaN</td>\n",
       "      <td>178100</td>\n",
       "    </tr>\n",
       "    <tr>\n",
       "      <th>3</th>\n",
       "      <td>NaN</td>\n",
       "      <td>NaN</td>\n",
       "      <td>140000</td>\n",
       "    </tr>\n",
       "  </tbody>\n",
       "</table>\n",
       "</div>"
      ],
      "text/plain": [
       "   NumRooms Alley   Price\n",
       "0       NaN  Pave  127500\n",
       "1       2.0   NaN  106000\n",
       "2       4.0   NaN  178100\n",
       "3       NaN   NaN  140000"
      ]
     },
     "execution_count": 45,
     "metadata": {},
     "output_type": "execute_result"
    }
   ],
   "source": [
    "import pandas as pd\n",
    "data = pd.read_csv(data_file)\n",
    "data"
   ]
  },
  {
   "cell_type": "markdown",
   "id": "31088b86",
   "metadata": {},
   "source": [
    "为了处理缺失的数据，典型的方法包括**插值**和**删除**，这里我们考虑**插值**"
   ]
  },
  {
   "cell_type": "code",
   "execution_count": 51,
   "id": "215765bd",
   "metadata": {},
   "outputs": [
    {
     "name": "stdout",
     "output_type": "stream",
     "text": [
      "   NumRooms Alley\n",
      "0       3.0  Pave\n",
      "1       2.0   NaN\n",
      "2       4.0   NaN\n",
      "3       3.0   NaN\n"
     ]
    }
   ],
   "source": [
    "# inputs, outputs = data.iloc[:, 0:2], data.iloc[:, 2]\n",
    "# inputs = inputs.fillna(inputs.mean())\n",
    "# print(inputs)报错\n",
    "\n",
    "inputs, outputs = data.iloc[:, 0:1], data.iloc[:, 2]\n",
    "inputs = inputs.fillna(inputs.mean())\n",
    "inputs = pd.concat([inputs, data.iloc[:,1]],axis=1)\n",
    "print(inputs)"
   ]
  },
  {
   "cell_type": "markdown",
   "id": "8bf093f0",
   "metadata": {},
   "source": [
    "对于inputs中的类别值或离散值，我们将“NaN”视为一个类别"
   ]
  },
  {
   "cell_type": "code",
   "execution_count": 52,
   "id": "d13d1aac",
   "metadata": {},
   "outputs": [
    {
     "data": {
      "text/html": [
       "<div>\n",
       "<style scoped>\n",
       "    .dataframe tbody tr th:only-of-type {\n",
       "        vertical-align: middle;\n",
       "    }\n",
       "\n",
       "    .dataframe tbody tr th {\n",
       "        vertical-align: top;\n",
       "    }\n",
       "\n",
       "    .dataframe thead th {\n",
       "        text-align: right;\n",
       "    }\n",
       "</style>\n",
       "<table border=\"1\" class=\"dataframe\">\n",
       "  <thead>\n",
       "    <tr style=\"text-align: right;\">\n",
       "      <th></th>\n",
       "      <th>NumRooms</th>\n",
       "      <th>Alley_Pave</th>\n",
       "      <th>Alley_nan</th>\n",
       "    </tr>\n",
       "  </thead>\n",
       "  <tbody>\n",
       "    <tr>\n",
       "      <th>0</th>\n",
       "      <td>3.0</td>\n",
       "      <td>1</td>\n",
       "      <td>0</td>\n",
       "    </tr>\n",
       "    <tr>\n",
       "      <th>1</th>\n",
       "      <td>2.0</td>\n",
       "      <td>0</td>\n",
       "      <td>1</td>\n",
       "    </tr>\n",
       "    <tr>\n",
       "      <th>2</th>\n",
       "      <td>4.0</td>\n",
       "      <td>0</td>\n",
       "      <td>1</td>\n",
       "    </tr>\n",
       "    <tr>\n",
       "      <th>3</th>\n",
       "      <td>3.0</td>\n",
       "      <td>0</td>\n",
       "      <td>1</td>\n",
       "    </tr>\n",
       "  </tbody>\n",
       "</table>\n",
       "</div>"
      ],
      "text/plain": [
       "   NumRooms  Alley_Pave  Alley_nan\n",
       "0       3.0           1          0\n",
       "1       2.0           0          1\n",
       "2       4.0           0          1\n",
       "3       3.0           0          1"
      ]
     },
     "execution_count": 52,
     "metadata": {},
     "output_type": "execute_result"
    }
   ],
   "source": [
    "inputs = pd.get_dummies(inputs, dummy_na = True, dtype=int)#dtype=int\n",
    "inputs"
   ]
  },
  {
   "cell_type": "markdown",
   "id": "f7e4d74c",
   "metadata": {},
   "source": [
    "现在inputs和outputs中所有条目都是数值类型，它们可以转换为张量格式"
   ]
  },
  {
   "cell_type": "code",
   "execution_count": 53,
   "id": "de6784b1",
   "metadata": {},
   "outputs": [
    {
     "data": {
      "text/plain": [
       "(tensor([[3., 1., 0.],\n",
       "         [2., 0., 1.],\n",
       "         [4., 0., 1.],\n",
       "         [3., 0., 1.]], dtype=torch.float64),\n",
       " tensor([127500, 106000, 178100, 140000]))"
      ]
     },
     "execution_count": 53,
     "metadata": {},
     "output_type": "execute_result"
    }
   ],
   "source": [
    "import torch\n",
    "X, y = torch.tensor(inputs.values), torch.tensor(outputs.values)\n",
    "X, y"
   ]
  },
  {
   "cell_type": "code",
   "execution_count": null,
   "id": "79f7efaa",
   "metadata": {},
   "outputs": [],
   "source": []
  }
 ],
 "metadata": {
  "kernelspec": {
   "display_name": "Python 3 (ipykernel)",
   "language": "python",
   "name": "python3"
  },
  "language_info": {
   "codemirror_mode": {
    "name": "ipython",
    "version": 3
   },
   "file_extension": ".py",
   "mimetype": "text/x-python",
   "name": "python",
   "nbconvert_exporter": "python",
   "pygments_lexer": "ipython3",
   "version": "3.9.13"
  }
 },
 "nbformat": 4,
 "nbformat_minor": 5
}
